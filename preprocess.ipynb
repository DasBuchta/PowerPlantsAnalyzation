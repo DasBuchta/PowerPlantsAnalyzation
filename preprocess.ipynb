{
 "cells": [
  {
   "cell_type": "code",
   "execution_count": 36,
   "metadata": {
    "pycharm": {
     "name": "#%%\n"
    }
   },
   "outputs": [
    {
     "name": "stdout",
     "output_type": "stream",
     "text": [
      "Index(['country', 'country_long', 'name', 'capacity_mw', 'latitude',\n",
      "       'longitude', 'primary_fuel', 'other_fuel1', 'other_fuel2',\n",
      "       'other_fuel3', 'commissioning_year', 'owner', 'source', 'url',\n",
      "       'geolocation_source', 'wepp_id', 'year_of_capacity_data',\n",
      "       'generation_gwh_2013', 'generation_gwh_2014', 'generation_gwh_2015',\n",
      "       'generation_gwh_2016', 'generation_gwh_2017', 'generation_gwh_2018',\n",
      "       'generation_gwh_2019', 'generation_data_source',\n",
      "       'estimated_generation_gwh_2013', 'estimated_generation_gwh_2014',\n",
      "       'estimated_generation_gwh_2015', 'estimated_generation_gwh_2016',\n",
      "       'estimated_generation_gwh_2017', 'estimated_generation_note_2013',\n",
      "       'estimated_generation_note_2014', 'estimated_generation_note_2015',\n",
      "       'estimated_generation_note_2016', 'estimated_generation_note_2017'],\n",
      "      dtype='object')\n"
     ]
    }
   ],
   "source": [
    "import pandas as pd\n",
    "\n",
    "df = pd.read_csv('global_power_plant_database_v_1_3/global_power_plant_database.csv', dtype=object)\n",
    "df.rename(columns={'gppd_idnr': 'id'}, inplace=True)\n",
    "df.set_index('id', inplace=True)\n",
    "\n",
    "print(df.columns)\n",
    "\n"
   ]
  },
  {
   "cell_type": "code",
   "execution_count": 37,
   "metadata": {
    "pycharm": {
     "name": "#%%\n"
    }
   },
   "outputs": [],
   "source": [
    "df.drop(columns=['owner', 'source', 'commissioning_year', 'url', 'geolocation_source', 'wepp_id', 'generation_data_source'], inplace=True)\n",
    "df = df.loc[:, ~(df.columns.str.startswith('estimated_generation_note_'))]\n",
    "\n",
    "\n",
    "df.to_csv('global_power_plant_database_adjusted.csv')\n",
    "\n"
   ]
  },
  {
   "cell_type": "code",
   "execution_count": 38,
   "metadata": {
    "pycharm": {
     "name": "#%%\n"
    }
   },
   "outputs": [],
   "source": [
    "filtered = (df.loc[~(df.estimated_generation_gwh_2013.isna() + df.generation_gwh_2013.isna()), :])\n"
   ]
  },
  {
   "cell_type": "code",
   "execution_count": 40,
   "metadata": {
    "pycharm": {
     "name": "#%%\n"
    }
   },
   "outputs": [
    {
     "name": "stdout",
     "output_type": "stream",
     "text": [
      "country                                               USA\n",
      "country_long                     United States of America\n",
      "name                                          Bath County\n",
      "capacity_mw                                        2862.0\n",
      "latitude                                          38.2089\n",
      "longitude                                        -79.8000\n",
      "primary_fuel                                        Hydro\n",
      "other_fuel1                                           NaN\n",
      "other_fuel2                                           NaN\n",
      "other_fuel3                                           NaN\n",
      "year_of_capacity_data                                2019\n",
      "generation_gwh_2013                                -947.6\n",
      "generation_gwh_2014                              -989.619\n",
      "generation_gwh_2015                              -864.428\n",
      "generation_gwh_2016                               -768.62\n",
      "generation_gwh_2017                    -934.9440000000001\n",
      "generation_gwh_2018                    -982.6220000000001\n",
      "generation_gwh_2019                              -780.339\n",
      "estimated_generation_gwh_2013                     7163.85\n",
      "estimated_generation_gwh_2014                     6167.78\n",
      "estimated_generation_gwh_2015                     4870.28\n",
      "estimated_generation_gwh_2016                     6283.28\n",
      "estimated_generation_gwh_2017                     5002.00\n",
      "Name: USA0006167, dtype: object\n",
      "country                                                      VEN\n",
      "country_long                                           Venezuela\n",
      "name                             Antonio Jose de Sucre (Macagua)\n",
      "capacity_mw                                               2930.0\n",
      "latitude                                                  8.3039\n",
      "longitude                                               -62.6677\n",
      "primary_fuel                                               Hydro\n",
      "other_fuel1                                                  NaN\n",
      "other_fuel2                                                  NaN\n",
      "other_fuel3                                                  NaN\n",
      "year_of_capacity_data                                        NaN\n",
      "generation_gwh_2013                                      15681.0\n",
      "generation_gwh_2014                                          NaN\n",
      "generation_gwh_2015                                          NaN\n",
      "generation_gwh_2016                                          NaN\n",
      "generation_gwh_2017                                          NaN\n",
      "generation_gwh_2018                                          NaN\n",
      "generation_gwh_2019                                          NaN\n",
      "estimated_generation_gwh_2013                            5439.02\n",
      "estimated_generation_gwh_2014                            5079.12\n",
      "estimated_generation_gwh_2015                            5464.95\n",
      "estimated_generation_gwh_2016                            5353.81\n",
      "estimated_generation_gwh_2017                            7634.54\n",
      "Name: WRI1018635, dtype: object\n"
     ]
    }
   ],
   "source": [
    "diffs2013 = (filtered['generation_gwh_2013'].astype('float64') - filtered['estimated_generation_gwh_2013'].astype('float64'))\n",
    "\n",
    "print(filtered.iloc[diffs2013.argmin(), :])\n",
    "print(filtered.iloc[diffs2013.argmax(), :])\n"
   ]
  },
  {
   "cell_type": "code",
   "execution_count": null,
   "metadata": {
    "pycharm": {
     "name": "#%%\n"
    }
   },
   "outputs": [],
   "source": []
  }
 ],
 "metadata": {
  "interpreter": {
   "hash": "a972859600e9c151a1527d7112549abf2344997bd524cb2db02d5c4b36d3309c"
  },
  "kernelspec": {
   "display_name": "Python 3.10.4 64-bit",
   "language": "python",
   "name": "python3"
  },
  "language_info": {
   "codemirror_mode": {
    "name": "ipython",
    "version": 3
   },
   "file_extension": ".py",
   "mimetype": "text/x-python",
   "name": "python",
   "nbconvert_exporter": "python",
   "pygments_lexer": "ipython3",
   "version": "3.10.4"
  },
  "orig_nbformat": 4
 },
 "nbformat": 4,
 "nbformat_minor": 2
}